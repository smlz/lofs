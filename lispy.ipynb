{
 "metadata": {
  "name": "",
  "signature": "sha256:d1f5ac07b246e24230ab7406ba34b1639004c0e5b59869c3c983608bb68c535f"
 },
 "nbformat": 3,
 "nbformat_minor": 0,
 "worksheets": [
  {
   "cells": [
    {
     "cell_type": "code",
     "collapsed": false,
     "input": [
      "from __future__ import print_function, division   # make code python2 compatible"
     ],
     "language": "python",
     "metadata": {},
     "outputs": [],
     "prompt_number": 10
    },
    {
     "cell_type": "markdown",
     "metadata": {},
     "source": [
      "Vom Taschenrechner zur Programmiersprache\n",
      "=========================================\n",
      "\n",
      "Erste Schritt: Taschenrechner\n",
      "-----------------------------\n",
      "\n",
      "Normalerweise schreiben wir das Symbol f\u00fcr eine mathematische Operation zwischen die beiden Operanden\n",
      "```\n",
      "  6 * 7\n",
      "  33 + 9\n",
      "```\n",
      "Diese Darstellung wird auch infix-Darstellung genannt. Daneben gibt es noch zwei weitere Darstellungen:\n",
      "* _prefix_: der Operator steht vor den Operanden: `+ 16 26`\n",
      "* _postfix_: der Operator wird nach den Operanden geschrieben: `3 14 *` \n",
      "\n",
      "\n",
      "<div style=\"float:right\">\n",
      "![](https://ssl.gstatic.com/android/market/org.ab.x48/hi-256-1-55bd527196cd284cf973eba53b6d261485f681c0)\n",
      "</div>\n",
      "\n",
      "F\u00fcr unseren Taschenrechner benutzen wir die Prefix-Notation, weil sie sehr einfach zu parsen (FIXME) sind.\n",
      "\n",
      "Der weit verbreitete wissenschaftliche Taschenrechner HP-48 hat die Postfix-Notation w\u00e4hrend langer Zeit popul\u00e4r gemacht.\n",
      "\n",
      "Vergleichen wir zum Beispiel folgende Rechnungen, einmal in der gewohnten Schreibweise, und einmal in Prefix-Notation:\n",
      "```\n",
      "  sin(pi) + 3 * 14 / (2 + 7)\n",
      "```\n",
      "\n",
      "```\n",
      "  (+ (sin pi) (* 3 (/ 14 (+ 2 7))))\n",
      "```\n",
      "Theoretisch sind die Klammenrn nicht n\u00f6tig, denn in unserem Fall wissen wir, dass die Sinusfunktion genau ein Argument ben\u00f6tigt, alle anderen Operationen (+, * , /) genau zwei. Aber sie helfen, die Leserlichkeit zu verbessern, und erlauben zus\u00e4tzlich Operationen mit verschiedenen Anzahl von Argumenten zu kreieren:\n",
      "\n",
      "```\n",
      "  (sum 1 2 3 4 5 6)\n",
      "```\n",
      "\n",
      "Wir haben also die Darstellung f\u00fcr unseren Taschenrechner folgendermassen definiert:\n",
      "\n",
      "1. Eine Rechenoperation steht immer in Klammern.\n",
      "2. Das erste Element innerhalb der Klammern ist der Name der Operation.\n",
      "3. Die restlichen Argumente sind die Operanden.\n",
      "4. Rechnungen k\u00f6nnen ineinander verschachtelt werden.\n",
      "\n",
      "Unserer Rechnung k\u00f6nnte bespielsweise so aussehen:"
     ]
    },
    {
     "cell_type": "code",
     "collapsed": false,
     "input": [
      "rechnung = '(* (+ 5 9) (- 11 (// 128 16)))'"
     ],
     "language": "python",
     "metadata": {},
     "outputs": [],
     "prompt_number": 11
    },
    {
     "cell_type": "markdown",
     "metadata": {},
     "source": [
      "### Tokenizing: Zeichenkette in logische Elemente auftrennen\n",
      "\n",
      "`rechnung` ist jetzt eine Zeichenkette mit beliebigen Inhalt. Als erstes schneiden wir die Zeichenkette so auseinander, dass die einzelnen logischen Elemente f\u00fcr sich alleine stehen. Dabei d\u00fcrfen wir es nat\u00fcrlich nicht \u00fcbertreiben und zum Beispiel `'15'` in ein `'1'` und eine `'5'` auftrennen.\n",
      "\n",
      "Diesen Schritt nennt man __tokenizing__. Wir k\u00f6nnen beobachten, dass der Operator und die verschiednenen Operanden immer durch mindestens ein Leerzeichen voneinander abgetrennt sind. Python stellt f\u00fcr Zeichenketten die Methode `split()` zu Verf\u00fcgung, welche eine Zeichenkette zwischen den Leerzeichen auftrennt:"
     ]
    },
    {
     "cell_type": "code",
     "collapsed": false,
     "input": [
      "'''Paule heisst er,\n",
      "ist Bademeister\n",
      "im Schwimmbad an der Ecke'''.split()"
     ],
     "language": "python",
     "metadata": {},
     "outputs": [
      {
       "metadata": {},
       "output_type": "pyout",
       "prompt_number": 12,
       "text": [
        "['Paule',\n",
        " 'heisst',\n",
        " 'er,',\n",
        " 'ist',\n",
        " 'Bademeister',\n",
        " 'im',\n",
        " 'Schwimmbad',\n",
        " 'an',\n",
        " 'der',\n",
        " 'Ecke']"
       ]
      }
     ],
     "prompt_number": 12
    },
    {
     "cell_type": "markdown",
     "metadata": {},
     "source": [
      "  `split()` behandelt dabei Zeichenumbr\u00fcche gleich wie Leerzeichen, und ignoriert auch die genaue Anzahl von Leerzeichen zwischen zwei W\u00f6rtern\n",
      "\n",
      "Jetzt fehlen uns noch die Klamern, welche wir auch als eigenst\u00e4ndige Elemente betrachten wollen. Dazu benutzen wir einen kleinen Trick: Wir f\u00fcgen jeweils ein Leerzeichen vor und nach jeder Klammer ein, und k\u00f6nnen danach die Zeichenkette mit `split()` in die einzelnen Elemente aufteilen.\n",
      "\n",
      "Die fertige `tokenize`-Funktion sieht dann folgendermassen aus:"
     ]
    },
    {
     "cell_type": "code",
     "collapsed": false,
     "input": [
      "def tokenize(program):\n",
      "    return program.replace('(', ' ( ').replace(')', ' ) ').split()  # FIXME: explain method chaining\n",
      "\n",
      "tokens = tokenize(rechnung)\n",
      "\n",
      "for element in tokens:\n",
      "    print(element)"
     ],
     "language": "python",
     "metadata": {},
     "outputs": [
      {
       "output_type": "stream",
       "stream": "stdout",
       "text": [
        "(\n",
        "*\n",
        "(\n",
        "+\n",
        "5\n",
        "9\n",
        ")\n",
        "(\n",
        "-\n",
        "11\n",
        "(\n",
        "//\n",
        "128\n",
        "16\n",
        ")\n",
        ")\n",
        ")\n"
       ]
      }
     ],
     "prompt_number": 13
    },
    {
     "cell_type": "markdown",
     "metadata": {},
     "source": [
      "### Parsing: Die Struktur des Programms abbilden\n",
      "\n",
      "So, den ersten Schritt h\u00e4tten wir. Jetzt gilt es aus dieser Liste von Elementen etwas schlauer zu werden. Schauen wir uns dazu doch einmal die m\u00f6glichen Elemente an:\n",
      "\n",
      "* `(`: Mit einer \u00f6ffnenden Klammer startet eine neue Rechenoperation. Wir k\u00f6nnen die einzelnen Elemente einer Rechenoperation (Operator und Operanden) in einer Liste abspeichern. Diese Listen k\u00f6nnen wiederum ineinander verschachtelt sein.\n",
      "* `)`: Die schliessende Klammer beendet die aktuelle Rechenoperation.\n",
      "* Zahlen k\u00f6nnen direkt als solche verwendet werden.\n",
      "* Alles was \u00fcbrig bleibt, m\u00fcssten dann streng genommen Operatoren sein.\n",
      "\n",
      "Dieser Vorgang heist __parsen__: Unser Parser sieht folgendermassen aus:"
     ]
    },
    {
     "cell_type": "code",
     "collapsed": false,
     "input": [
      "def parse(tokens):\n",
      "    token = tokens.pop(0)   # Hohl das erste Element\n",
      "    if token == '(':\n",
      "        L = []\n",
      "        while tokens[0] != ')':\n",
      "            L.append(parse(tokens))\n",
      "        tokens.pop(0)\n",
      "        return L\n",
      "    else:\n",
      "        return atom(token)"
     ],
     "language": "python",
     "metadata": {},
     "outputs": [],
     "prompt_number": 14
    },
    {
     "cell_type": "markdown",
     "metadata": {},
     "source": [
      "Bis jetzt haben wir uns nur um die verschachtelten Listen gek\u00fcmmert. Es bleiben aber noch zwei Dinge \u00fcbrig:\n",
      "\n",
      "* Die Zahlen (Ganzzahlen, oder auch Fliesskommazahlen).\n",
      "* Operatoren. Streng genommen m\u00fcsste alles was nicht eine Zahl ist eine Operation sein\n",
      "\n",
      "Die Zahlen k\u00f6nnen wir direkt in Python umwandeln. Die Operationen speichern wir einfach als Zeichenkette ab."
     ]
    },
    {
     "cell_type": "code",
     "collapsed": false,
     "input": [
      "def atom(token):\n",
      "    try:\n",
      "        return int(token)\n",
      "    except:\n",
      "        try:\n",
      "            return float(token)\n",
      "        except:\n",
      "            return token"
     ],
     "language": "python",
     "metadata": {},
     "outputs": [],
     "prompt_number": 15
    },
    {
     "cell_type": "code",
     "collapsed": false,
     "input": [
      "tokens\n",
      "program = parse(tokens)\n",
      "program"
     ],
     "language": "python",
     "metadata": {},
     "outputs": [
      {
       "metadata": {},
       "output_type": "pyout",
       "prompt_number": 16,
       "text": [
        "['*', ['+', 5, 9], ['-', 11, ['//', 128, 16]]]"
       ]
      }
     ],
     "prompt_number": 16
    },
    {
     "cell_type": "markdown",
     "metadata": {},
     "source": [
      "Wir k\u00f6nnen diese verschachtelte Liste auch als Baum darstellen:"
     ]
    },
    {
     "cell_type": "code",
     "collapsed": false,
     "input": [
      "import pydot, uuid, IPython\n",
      "\n",
      "def draw_tree(tree, graph):\n",
      "    if isinstance(tree, list):\n",
      "        node = pydot.Node(str(uuid.uuid1()), label=tree[0])\n",
      "        for arg in tree[1:]:\n",
      "            child = draw_tree(arg, graph)\n",
      "            graph.add_edge(pydot.Edge(node, child))\n",
      "    else:\n",
      "        node = pydot.Node(str(uuid.uuid1()), label=tree)\n",
      "    graph.add_node(node)\n",
      "    return node\n",
      "\n",
      "graph = pydot.Dot(graph_type='graph')\n",
      "draw_tree(program, graph)\n",
      "graph.write_png('program_tree.png')\n",
      "IPython.display.Image('program_tree.png')"
     ],
     "language": "python",
     "metadata": {},
     "outputs": [
      {
       "metadata": {},
       "output_type": "pyout",
       "png": "[encoded data removed]",
       "prompt_number": 17,
       "text": [
        "<IPython.core.display.Image at 0x7f151f1e9250>"
       ]
      }
     ],
     "prompt_number": 17
    },
    {
     "cell_type": "markdown",
     "metadata": {},
     "source": [
      "### Evaluation: Das Programm ausf\u00fchren"
     ]
    },
    {
     "cell_type": "code",
     "collapsed": false,
     "input": [
      "def add(a, b):\n",
      "    return a + b\n",
      "def sub(a, b):\n",
      "    return a - b\n",
      "def mult(a, b):\n",
      "    return a * b\n",
      "def div(a, b):\n",
      "    return a / b\n",
      "def floordiv(a, b):\n",
      "    return a // b\n",
      "\n",
      "operations = {\n",
      "    '+': add,\n",
      "    '-': sub,\n",
      "    '*': mult,\n",
      "    '/': div,\n",
      "    '//': floordiv,\n",
      "}\n",
      "\n",
      "def evaluate(x):\n",
      "    if isinstance(x, (int, float)):  # Numbers\n",
      "        return x\n",
      "    elif isinstance(x, str):  # Operator\n",
      "        return operations[x]\n",
      "    else:\n",
      "        func = evaluate(x[0])\n",
      "        args = []\n",
      "        for exp in x[1:]:\n",
      "            args.append(evaluate(exp))\n",
      "        return func(*args)\n",
      "\n",
      "evaluate(program)"
     ],
     "language": "python",
     "metadata": {},
     "outputs": [
      {
       "metadata": {},
       "output_type": "pyout",
       "prompt_number": 18,
       "text": [
        "42"
       ]
      }
     ],
     "prompt_number": 18
    },
    {
     "cell_type": "markdown",
     "metadata": {},
     "source": [
      "Yay, it works!\n",
      "\n",
      "## Taschenrechner mit Variablen"
     ]
    },
    {
     "cell_type": "markdown",
     "metadata": {},
     "source": [
      "So und jeztt brauchen wir unsere erste special form"
     ]
    },
    {
     "cell_type": "code",
     "collapsed": false,
     "input": [
      "def handle_do(*args):\n",
      "    return args[-1]\n",
      "\n",
      "environment = {\n",
      "    '+': add,\n",
      "    '-': sub,\n",
      "    '*': mult,\n",
      "    '/': div,\n",
      "    '//': floordiv,\n",
      "    'do': handle_do,\n",
      "}\n",
      "\n",
      "def evaluate(x):\n",
      "    if isinstance(x, (int, float)):  # Numbers\n",
      "        return x\n",
      "    elif isinstance(x, str):  # Operator\n",
      "        return environment[x]\n",
      "    elif x[0] == 'define':           # (define var exp)\n",
      "        (_, var, exp) = x\n",
      "        environment[var] = evaluate(exp)\n",
      "    else:\n",
      "        func = evaluate(x[0])\n",
      "        args = []\n",
      "        for exp in x[1:]:\n",
      "            args.append(evaluate(exp))\n",
      "        return func(*args)\n",
      "    \n",
      "evaluate(parse(tokenize('''\n",
      "(do\n",
      " (define pi 3.14)\n",
      " (define radius 10)\n",
      " (define umfang (* 2 (* pi radius)))\n",
      " umfang\n",
      ")\n",
      "''')))"
     ],
     "language": "python",
     "metadata": {},
     "outputs": [
      {
       "metadata": {},
       "output_type": "pyout",
       "prompt_number": 29,
       "text": [
        "62.800000000000004"
       ]
      }
     ],
     "prompt_number": 29
    },
    {
     "cell_type": "markdown",
     "metadata": {},
     "source": [
      "## Dritter Schritt: Selbst definierter Funktionen"
     ]
    },
    {
     "cell_type": "code",
     "collapsed": false,
     "input": [
      "def evaluate(x):\n",
      "    if isinstance(x, (int, float)):  # Numbers\n",
      "        return x\n",
      "    elif isinstance(x, str):  # Operator\n",
      "        return environment[x]\n",
      "    elif x[0] == 'define':           # (define var exp)\n",
      "        (_, var, exp) = x\n",
      "        environment[var] = evaluate(exp)\n",
      "    elif x[0] == 'function':            # (func (var...) body)\n",
      "        #(_, params, body) = x\n",
      "        return x\n",
      "    else:\n",
      "        func = evaluate(x[0])\n",
      "        args = []\n",
      "        for exp in x[1:]:\n",
      "            args.append(evaluate(exp))\n",
      "        if isinstance(func, list):\n",
      "            # Selbstgeschriebene Funktion\n",
      "            (_, params, body) = func\n",
      "            environment.update(zip(params, args))\n",
      "            return evaluate(body)\n",
      "        else:\n",
      "            # Eingebaute Funktion\n",
      "            return func(*args)\n",
      "\n",
      "evaluate(parse(tokenize(\"\"\"(+ 1 1)\n",
      "\n",
      "\"\"\")))"
     ],
     "language": "python",
     "metadata": {},
     "outputs": [
      {
       "metadata": {},
       "output_type": "pyout",
       "prompt_number": 31,
       "text": [
        "2"
       ]
      }
     ],
     "prompt_number": 31
    },
    {
     "cell_type": "markdown",
     "metadata": {},
     "source": [
      "## Schritt Vier: Eigene Scopes\n",
      "\n",
      "Problem:"
     ]
    },
    {
     "cell_type": "code",
     "collapsed": false,
     "input": [
      "evaluate(parse(tokenize('''\n",
      "(do\n",
      " (define r 10)\n",
      " (define x 15)\n",
      " (define pi 3.14)\n",
      " (define umfang (function (x) (* 2 (* pi x))))\n",
      " (umfang r)\n",
      " x\n",
      ")\n",
      "''')))"
     ],
     "language": "python",
     "metadata": {},
     "outputs": [
      {
       "metadata": {},
       "output_type": "pyout",
       "prompt_number": 32,
       "text": [
        "10"
       ]
      }
     ],
     "prompt_number": 32
    },
    {
     "cell_type": "markdown",
     "metadata": {},
     "source": [
      "Beim Aufruf der Funktion `umfang` wird `x` \u00fcberschrieben. __Notto Guddo!__\n",
      "\n",
      "Darum brauchen wir f\u00fcr jede Funktione eine eigene Umgebung (environment)"
     ]
    },
    {
     "cell_type": "code",
     "collapsed": false,
     "input": [
      "class Env(dict):\n",
      "    def __init__(self, params=(), args=(), outer=None):\n",
      "        self.update(zip(params, args))\n",
      "        self.outer = outer\n",
      "    def __getitem__(self, var):\n",
      "        if var in self:\n",
      "            return super(Env, self).__getitem__(var)\n",
      "        elif self.outer:\n",
      "            return self.outer[var]\n",
      "        else:\n",
      "            raise NameError(\"name '%s' is not defined\" % var)\n",
      "\n",
      "global_env = Env()\n",
      "global_env.update({\n",
      "    '+': add,\n",
      "    '-': sub,\n",
      "    '*': mult,\n",
      "    '/': div,\n",
      "    '//': floordiv,\n",
      "    'do': handle_do,\n",
      "})\n",
      "\n",
      "class UserFunction(object):\n",
      "    def __init__(self, params, body, env):\n",
      "        self.params, self.body, self.env = (params, body, env)\n",
      "    def __call__(self, *args):\n",
      "        return evaluate(self.body, Env(self.params, args, self.env))\n",
      "\n",
      "def evaluate(x, env=global_env):\n",
      "    if isinstance(x, (int, float)):  # Numbers\n",
      "        return x\n",
      "    elif isinstance(x, str):  # Operator\n",
      "        return env[x]\n",
      "    elif x[0] == 'define':           # (define var exp)\n",
      "        (_, var, exp) = x\n",
      "        env[var] = evaluate(exp, env)\n",
      "    elif x[0] == 'function':            # (func (var...) body)\n",
      "        (_, params, body) = x\n",
      "        return UserFunction(params, body, env)\n",
      "    else:\n",
      "        func = evaluate(x[0], env)\n",
      "        args = []\n",
      "        for exp in x[1:]:\n",
      "            args.append(evaluate(exp, env))\n",
      "        return func(*args)\n",
      "    \n",
      "evaluate(parse(tokenize('''\n",
      "(do\n",
      " (define r 10)\n",
      " (define x 15)\n",
      " (define pi 3.14)\n",
      " (define umfang (function (x) (* 2 (* pi x))))\n",
      " (define u (umfang r))\n",
      " x\n",
      ")\n",
      "''')))"
     ],
     "language": "python",
     "metadata": {},
     "outputs": [
      {
       "metadata": {},
       "output_type": "pyout",
       "prompt_number": 33,
       "text": [
        "15"
       ]
      }
     ],
     "prompt_number": 33
    },
    {
     "cell_type": "markdown",
     "metadata": {},
     "source": [
      "Jetzt k\u00f6nnen wir \u00fcberpr\u00fcfen, ob die Berechnung des Umfangs auch wirklich funktioniert hat:"
     ]
    },
    {
     "cell_type": "code",
     "collapsed": false,
     "input": [
      "global_env['u']"
     ],
     "language": "python",
     "metadata": {},
     "outputs": [
      {
       "metadata": {},
       "output_type": "pyout",
       "prompt_number": 23,
       "text": [
        "62.800000000000004"
       ]
      }
     ],
     "prompt_number": 23
    },
    {
     "cell_type": "markdown",
     "metadata": {},
     "source": [
      "Es hat funktioniert!\n",
      "\n",
      "Was passiert eigentlich wenn wir einen Fehler machen?"
     ]
    },
    {
     "cell_type": "code",
     "collapsed": false,
     "input": [
      "try:\n",
      "    evaluate(parse(tokenize('''\n",
      "    (begin\n",
      "     (define r 10)\n",
      "     rr\n",
      "    )\n",
      "    ''')))\n",
      "except Exception, e:\n",
      "    print(e.message)"
     ],
     "language": "python",
     "metadata": {},
     "outputs": [
      {
       "output_type": "stream",
       "stream": "stdout",
       "text": [
        "name 'rr' is not defined\n"
       ]
      }
     ],
     "prompt_number": 24
    },
    {
     "cell_type": "markdown",
     "metadata": {},
     "source": [
      "Eine korrekte Fehlermeldung\n",
      "\n",
      "## Letzter Schritt: Rekursion und if-Anweisung\n",
      "\n",
      "Machen wir einen kleinen Test:"
     ]
    },
    {
     "cell_type": "code",
     "collapsed": false,
     "input": [
      "def modulo(a, b):\n",
      "    return a % b\n",
      "\n",
      "def if_func(pred, a, b):\n",
      "    if pred:\n",
      "        return a\n",
      "    else:\n",
      "        return b\n",
      "\n",
      "global_env.update({\n",
      "    '%': lambda a, b: a % b,\n",
      "    '=': lambda a, b: a == b,\n",
      "    'if': if_func,\n",
      "})\n",
      "\n",
      "try:\n",
      "    evaluate(parse(tokenize('''\n",
      "    (begin\n",
      "     (define gcd (function (a b) (if (= b 0) a (gcd b (% a b)))))\n",
      "     (gcd 24 42)\n",
      "    )\n",
      "    ''')))\n",
      "except Exception, e:\n",
      "    print(repr(e))"
     ],
     "language": "python",
     "metadata": {},
     "outputs": [
      {
       "output_type": "stream",
       "stream": "stdout",
       "text": [
        "ZeroDivisionError('integer division or modulo by zero',)\n"
       ]
      }
     ],
     "prompt_number": 25
    },
    {
     "cell_type": "markdown",
     "metadata": {},
     "source": [
      "Warum?\n",
      "\n",
      "Offenbar werden immer alle Argumente einer Funktion evaluiert. Das heisst: bei einer if-Funktion werden alle Argumente evaluiert, auch wenn es gar nicht n\u00f6tig w\u00e4re.\n",
      "\n",
      "Bei unserem Fall ist es sogar zwingend, dass die Modulo-Operation nicht mehr durchgef\u00fchrt wird, wenn `b` Null ist.\n",
      "\n",
      "`if` ist also keine _normale_ Funktion, sondern wie `define` und `function` eine _special form_. \n",
      "\n",
      "Zuerst ein bisschen aufr\u00e4umen:"
     ]
    },
    {
     "cell_type": "code",
     "collapsed": false,
     "input": [
      "del global_env['if']  # brauchen wir nicht mehr"
     ],
     "language": "python",
     "metadata": {},
     "outputs": [],
     "prompt_number": 26
    },
    {
     "cell_type": "markdown",
     "metadata": {},
     "source": [
      "Und jetzt erweitern wir also unsere `evaluate`-Funktion um die `if` special form:"
     ]
    },
    {
     "cell_type": "code",
     "collapsed": false,
     "input": [
      "def evaluate(x, env=global_env):\n",
      "    if isinstance(x, (int, float)):  # Numbers\n",
      "        return x\n",
      "    elif isinstance(x, str):  # Operator\n",
      "        return env[x]\n",
      "    elif x[0] == 'define':           # (define var exp)\n",
      "        (_, var, exp) = x\n",
      "        env[var] = evaluate(exp, env)\n",
      "    elif x[0] == 'function':            # (function (var...) body)\n",
      "        (_, params, body) = x\n",
      "        return UserFunction(params, body, env)\n",
      "    elif x[0] == 'if':\n",
      "        (_, test, conseq, alt) = x\n",
      "        if evaluate(test, env):\n",
      "            return evaluate(conseq, env)\n",
      "        else:\n",
      "            return evaluate(alt, env)\n",
      "    else:\n",
      "        func = evaluate(x[0], env)\n",
      "        args = []\n",
      "        for exp in x[1:]:\n",
      "            args.append(evaluate(exp, env))\n",
      "        return func(*args)\n",
      "    \n",
      "evaluate(parse(tokenize('''\n",
      "(begin\n",
      " (define gcd (function (a b) (if (= b 0) a (gcd b (% a b)))))\n",
      " (gcd 24 42)\n",
      ")\n",
      "''')))"
     ],
     "language": "python",
     "metadata": {},
     "outputs": [
      {
       "metadata": {},
       "output_type": "pyout",
       "prompt_number": 27,
       "text": [
        "6"
       ]
      }
     ],
     "prompt_number": 27
    },
    {
     "cell_type": "markdown",
     "metadata": {},
     "source": [
      "__Voil\u00e0!__"
     ]
    }
   ],
   "metadata": {}
  }
 ]
}