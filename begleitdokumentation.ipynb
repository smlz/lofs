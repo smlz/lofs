{
 "metadata": {
  "name": "",
  "signature": "sha256:ba7291914b04ee8c32d18b3a2a0622fc537ba5d2220fc06842797dd841f66764"
 },
 "nbformat": 3,
 "nbformat_minor": 0,
 "worksheets": [
  {
   "cells": [
    {
     "cell_type": "heading",
     "level": 1,
     "metadata": {},
     "source": [
      "Begleitdokumentation"
     ]
    },
    {
     "cell_type": "heading",
     "level": 2,
     "metadata": {},
     "source": [
      "Einleitung"
     ]
    },
    {
     "cell_type": "markdown",
     "metadata": {},
     "source": [
      "### Voraussetzung\n",
      "\n",
      "Python\n",
      "\n",
      "* Eigenen Funktionen\n",
      "  * `*args`\n",
      "  \n",
      "* String-Manipulationen\n",
      "* Zahlen parsen (`int()` und `float()`)\n",
      "  * Einfaches Exception-Handling\n",
      "* Listen\n",
      "  * Slices\n",
      "* Dictionaries\n",
      "* Rekursion (Palindrom, GCD, Fibonacci)\n",
      "\n",
      "### Lernziele\n",
      "\n",
      "* RPN\n",
      "* S-Expressions\n",
      "  * Vorteile (keine Pr\u00e4zedenzprobleme, beliebige Anzahl von Argumenten, vararg!)\n",
      "<div style=\"float:right\">\n",
      "![](parser_stages.png)\n",
      "</div>\n",
      "* Compiler Stages (Grafik)\n",
      "  * Tokenizing\n",
      "  * Parsing und Syntax-Tree\n",
      "  * Etwas mit dem Syntax-Tree anfang: Interpretieren (evaluate)\n",
      "* Unterschied Funktion/Special Form\n",
      "* Funktionen definieren und anwenden\n",
      "  * apply/eval loop (Yin und Yang)\n",
      "  * Eigene Scopes\n",
      "  * Closures\n",
      "\n",
      "### Fundamentale Ideen \n",
      "\n",
      "\n",
      "### Kompetenzen\n",
      "\n",
      "* \n",
      "\n"
     ]
    },
    {
     "cell_type": "code",
     "collapsed": false,
     "input": [],
     "language": "python",
     "metadata": {},
     "outputs": []
    },
    {
     "cell_type": "markdown",
     "metadata": {},
     "source": [
      "### Advance Organizer\n",
      "\n",
      "Wir bauen in den n\u00e4chsten paar Wochen unsere eigene Programmiersprache. Das t\u00f6nt jetzt zuerst einmal unglaublich kompliziert. Ist es aber nicht. Damit wir uns nicht im Detail verlieren, machen wir einige Vereinfachungen. Zum Beispiel beschr\u00e4nken wir uns auf Zahlen als Datentypen und lassen zum Beispiel Textketten weg. Auch verwenden dazu eine Art von Programmierprache, welche sich durch ihre Einfachheit einen Namen gemacht hat. All dies heisst aber nicht, dass wir hier eine Sprache entwerfen, welche nichts mit der aktuellen Realit\u00e4t zu tun hat. Wir kommen sehr nahe an eine sehr aktuelle und auch moderne Programmiersprache heran. Ausserdem Turing complete. Von den Ideen her sehr nahe an Lisp, Scheme, Clojure und JavaScript.\n",
      "\n",
      "Vorgehen. Einfach anfangen beim Taschenrechner. Wir lernen die n\u00f6tigen Schritte kennen. Den Programmtext in seine logischen Bl\u00f6cke zers\u00e4gen (tokenizing), dann bringen wir etwas Struktur in das ganze rein (Parsing) und am Schluss werten wir das Programm aus!"
     ]
    },
    {
     "cell_type": "code",
     "collapsed": false,
     "input": [],
     "language": "python",
     "metadata": {},
     "outputs": []
    },
    {
     "cell_type": "heading",
     "level": 2,
     "metadata": {},
     "source": [
      "Ben\u00f6tigte Tools"
     ]
    },
    {
     "cell_type": "markdown",
     "metadata": {},
     "source": [
      "* Python >= 2.7\n",
      "* IPython"
     ]
    },
    {
     "cell_type": "heading",
     "level": 2,
     "metadata": {},
     "source": [
      "Referenzen"
     ]
    },
    {
     "cell_type": "markdown",
     "metadata": {},
     "source": [
      "* Structure and Interpretation of Computer Programs (Suessman, ...)\n",
      "* Peter Norvigs lis.py"
     ]
    },
    {
     "cell_type": "markdown",
     "metadata": {},
     "source": [
      "### Notes\n",
      "\n",
      "#### \u00dcbungen\n",
      "\n",
      "* RPN (auf Papier)\n",
      "* Tokenize (auf Papier)\n",
      "* Wettbewerb: Tokenize programmieren und testen (Wer braucht am wenigsten Zeilen?displ)\n",
      "* Atoms parsing (code)\n",
      "* Iterative Parsing (Paper programming mit K\u00e4rtchen)\n",
      "   - Expliziter Stack\n",
      "* Iterative Parsing programmieren\n",
      "* Zusatz\u00fcbung: Rekursive Version mit implizitem Stack (Paperprogramming)\n",
      "* Rekursive Version ausprogrammieren\n",
      "* SyntaxBaum zeichnen\n",
      "* Eval von Hand\n",
      "* Reihenfolge (spielt es eine Rolle? Nein!)\n",
      "* Operationen definieren (code)\n",
      "* \n",
      "\n",
      "\n",
      "\n",
      "\n",
      "#### Referenzen\n",
      "\n",
      "* Yegge\n",
      "* McCarty's seminal paper\n",
      "* The Art of Interpreters\n",
      "* Histoy of Lisp\n",
      "\n",
      "\n",
      "#### Blabla\n",
      "\n",
      "* Two models of computation (C and Lisp / Turing Machine vs . Lambda Calculus)\n",
      "  - The world of programming ist gettingh lispier (Python, Ruby, JavaScript, Clojure)"
     ]
    },
    {
     "cell_type": "code",
     "collapsed": false,
     "input": [],
     "language": "python",
     "metadata": {},
     "outputs": []
    }
   ],
   "metadata": {}
  }
 ]
}